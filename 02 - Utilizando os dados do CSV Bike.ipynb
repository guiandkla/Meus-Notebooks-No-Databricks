{
 "cells": [
  {
   "cell_type": "markdown",
   "id": "eae1f4ea",
   "metadata": {},
   "source": [
    "### # Abrir o arquivo CSV das Bikes extraídos do Kaggle e disponível em Workspace/default/volumes"
   ]
  },
  {
   "cell_type": "code",
   "execution_count": null,
   "id": "ef0109d5",
   "metadata": {},
   "outputs": [],
   "source": [
    "# Caminho do arquivo\n",
    "file_path = '/Volumes/workspace/default/arquivos-aula/Bike Store/products.csv'\n",
    "\n",
    "# Leitura do arquivo CSV\n",
    "df_bike = spark.read.format('csv') \\\n",
    "   .option('header', 'true') \\\n",
    "   .option('inferSchema', 'true') \\\n",
    "   .load(file_path)\n",
    "\n",
    "# Exibe o DataFrame\n",
    "display(df_bike)\n",
    "\n",
    "# Mostra o schema detalhado\n",
    "df_bike.printSchema()\n",
    "\n",
    "# Mostra em formato de tabela (nome da coluna e tipo)\n",
    "df_bike.dtypes"
   ]
  },
  {
   "cell_type": "markdown",
   "id": "8ed8379d",
   "metadata": {},
   "source": [
    "### # Cria a Database\n",
    "\n",
    "# CREATE DATABASE IF NOT EXISTS workspace.db_bikes;"
   ]
  },
  {
   "cell_type": "code",
   "execution_count": null,
   "id": "0524acc1",
   "metadata": {},
   "outputs": [],
   "source": [
    "### # Cria a tabela Produtos\n",
    "\n",
    "USE CATALOG workspace;\n",
    "USE SCHEMA db_bikes;\n",
    "CREATE OR REPLACE TABLE Produtos (\n",
    "\n",
    "product_id INT,\n",
    "product_name STRING,\n",
    "brand_id INT,\n",
    "category_id INT,\n",
    "model_year INT,\n",
    "list_price DOUBLE\n",
    "\n",
    ");"
   ]
  },
  {
   "cell_type": "markdown",
   "id": "3a74a5b5",
   "metadata": {},
   "source": [
    "### # Copia os dados do CSV para dentro da tabela criada"
   ]
  },
  {
   "cell_type": "code",
   "execution_count": null,
   "id": "3b754cb6",
   "metadata": {},
   "outputs": [],
   "source": [
    "USE SCHEMA db_bikes;\n",
    "COPY INTO produtos\n",
    "FROM '/Volumes/workspace/default/arquivos-aula/Bike Store/products.csv' -- Caminho para o arquivo CSV\n",
    "FILEFORMAT = CSV -- Formato do arquivo (CSV)\n",
    "FORMAT_OPTIONS ('header' = 'true', 'inferSchema' = 'true'); -- Primeira linha como cabeçalho / Inferir automaticamente o tipo dos dados das colunas"
   ]
  },
  {
   "cell_type": "markdown",
   "id": "30dd3479",
   "metadata": {},
   "source": [
    "### # Verifica se deu certo selecionando tudo na tabela"
   ]
  },
  {
   "cell_type": "code",
   "execution_count": null,
   "id": "451f43ec",
   "metadata": {},
   "outputs": [],
   "source": [
    "SELECT * FROM produtos;\n",
    "SELECT product_name as Produto, list_price as Preco FROM db_bikes.produtos WHERE list_price >= '999.99';"
   ]
  },
  {
   "cell_type": "markdown",
   "id": "ac778df5",
   "metadata": {},
   "source": [
    "### # Primeiro é necessário criar uma tabela temporária para depois criar uma tabela física permanente"
   ]
  },
  {
   "cell_type": "code",
   "execution_count": null,
   "id": "0e4dba58",
   "metadata": {},
   "outputs": [],
   "source": [
    "USE db_bikes;\n",
    "\n",
    "-- Cria tabelas temporárias\n",
    "CREATE OR REPLACE TEMP VIEW brands_tmp USING CSV OPTIONS (path '/Volumes/workspace/default/arquivos-aula/Bike Store/brands.csv', header 'true', inferSchema 'true');\n",
    "CREATE OR REPLACE TEMP VIEW categories_tmp USING CSV OPTIONS (path '/Volumes/workspace/default/arquivos-aula/Bike Store/categories.csv', header 'true', inferSchema 'true');\n",
    "CREATE OR REPLACE TEMP VIEW clientes_tmp USING CSV OPTIONS (path '/Volumes/workspace/default/arquivos-aula/Bike Store/customers.csv', header 'true', inferSchema 'true');\n",
    "CREATE OR REPLACE TEMP VIEW order_items_tmp USING CSV OPTIONS (path '/Volumes/workspace/default/arquivos-aula/Bike Store/order_items.csv', header 'true', inferSchema 'true');\n",
    "CREATE OR REPLACE TEMP VIEW orders_tmp USING CSV OPTIONS (path '/Volumes/workspace/default/arquivos-aula/Bike Store/orders.csv', header 'true', inferSchema 'true');\n",
    "CREATE OR REPLACE TEMP VIEW products_tmp USING CSV OPTIONS (path '/Volumes/workspace/default/arquivos-aula/Bike Store/products.csv', header 'true', inferSchema 'true');\n",
    "CREATE OR REPLACE TEMP VIEW staffs_tmp USING CSV OPTIONS (path '/Volumes/workspace/default/arquivos-aula/Bike Store/staffs.csv', header 'true', inferSchema 'true');\n",
    "CREATE OR REPLACE TEMP VIEW stocks_tmp USING CSV OPTIONS (path '/Volumes/workspace/default/arquivos-aula/Bike Store/stocks.csv', header 'true', inferSchema 'true');\n",
    "CREATE OR REPLACE TEMP VIEW stores_tmp USING CSV OPTIONS (path '/Volumes/workspace/default/arquivos-aula/Bike Store/stores.csv', header 'true', inferSchema 'true');\n",
    "\n",
    "-- Cria as tabelas permanentes a partir das tabelas temporárias\n",
    "CREATE OR REPLACE TABLE db_bikes.brands AS SELECT * FROM brands_tmp;\n",
    "CREATE OR REPLACE TABLE db_bikes.categories AS SELECT * FROM categories_tmp;\n",
    "CREATE OR REPLACE TABLE db_bikes.clientes AS SELECT * FROM clientes_tmp;\n",
    "CREATE OR REPLACE TABLE db_bikes.order_items AS SELECT * FROM order_items_tmp;\n",
    "CREATE OR REPLACE TABLE db_bikes.orders AS SELECT * FROM orders_tmp;\n",
    "CREATE OR REPLACE TABLE db_bikes.products AS SELECT * FROM products_tmp;\n",
    "CREATE OR REPLACE TABLE db_bikes.staffs AS SELECT * FROM staffs_tmp;\n",
    "CREATE OR REPLACE TABLE db_bikes.stocks AS SELECT * FROM stocks_tmp;\n",
    "CREATE OR REPLACE TABLE db_bikes.stores AS SELECT * FROM stores_tmp;\n",
    "\n",
    "\n",
    "USE db_bikes;\n",
    "\n",
    "-- Consulta de contratos de clientes.\n",
    "SELECT customer_id as Id,\n",
    "first_name as Nome,\n",
    "phone as Telefone,\n",
    "email as Email\n",
    "FROM clientes WHERE first_name like \"G%\"; -- Filtra os nomes que começam com a letra G."
   ]
  },
  {
   "cell_type": "markdown",
   "id": "ceb13e3c",
   "metadata": {},
   "source": [
    "### # Utilizando o Spark para ler Query SQL (apenas ler, ainda não salva em um Data Frame):"
   ]
  },
  {
   "cell_type": "code",
   "execution_count": null,
   "id": "ead03472",
   "metadata": {},
   "outputs": [],
   "source": [
    "spark.sql(\"\"\"\n",
    "\n",
    "SELECT\n",
    "customer_id as Id,\n",
    "first_name as Nome,\n",
    "phone as Telefone,\n",
    "email as Email\n",
    "FROM clientes\n",
    "WHERE first_name like \"G%\" -- Filtra os nomes que começam com a letra G.\n",
    "\n",
    "\"\"\"\n",
    ").show()"
   ]
  },
  {
   "cell_type": "markdown",
   "id": "b904d1f9",
   "metadata": {},
   "source": [
    "### # Salvando a Query SQL num Data Frame: "
   ]
  },
  {
   "cell_type": "code",
   "execution_count": null,
   "id": "a20c5e8b",
   "metadata": {},
   "outputs": [],
   "source": [
    "dfSQL = spark.sql(\"\"\"     -- Dá um nome para o Data Frame (neste exemplo é dfSQL), e remove o .show() que servia para visualizar os dados selecionados.\n",
    "\n",
    "SELECT\n",
    "customer_id as Id,\n",
    "first_name as Nome,\n",
    "phone as Telefone,\n",
    "email as Email\n",
    "FROM clientes\n",
    "WHERE first_name like \"G%\"\n",
    "\n",
    "\"\"\"\n",
    ")"
   ]
  },
  {
   "cell_type": "markdown",
   "id": "97149362",
   "metadata": {},
   "source": [
    "### # Visualizando o Data Frame criado:"
   ]
  },
  {
   "cell_type": "code",
   "execution_count": null,
   "id": "3eddd544",
   "metadata": {},
   "outputs": [],
   "source": [
    "dfSQL.show() # Exibe o Data Frame criado.\n",
    "\n",
    "# Também funciona com display(dfSQL)\n",
    "\n",
    "spark.sql(''' \n",
    "\n",
    "SELECT * FROM clientes\n",
    "\n",
    "\n",
    "'''\n",
    "\n",
    ").show()"
   ]
  }
 ],
 "metadata": {
  "language_info": {
   "name": "python"
  }
 },
 "nbformat": 4,
 "nbformat_minor": 5
}
