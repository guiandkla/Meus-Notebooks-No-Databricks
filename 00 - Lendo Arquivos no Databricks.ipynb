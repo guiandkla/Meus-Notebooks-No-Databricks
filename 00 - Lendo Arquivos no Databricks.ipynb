{
 "cells": [
  {
   "cell_type": "markdown",
   "id": "bb1c82b7",
   "metadata": {},
   "source": [
    "# Databricks notebook source"
   ]
  },
  {
   "cell_type": "code",
   "execution_count": null,
   "id": "bc713828",
   "metadata": {},
   "outputs": [],
   "source": [
    "# Caminho do arquivo\n",
    "file_path = 'dbfs:/Volumes/workspace/default/arquivos-aula/arquivos_csv/Clientes.csv'"
   ]
  },
  {
   "cell_type": "markdown",
   "id": "de4a47c5",
   "metadata": {},
   "source": [
    "# Leitura do arquivo CSV"
   ]
  },
  {
   "cell_type": "code",
   "execution_count": null,
   "id": "75030237",
   "metadata": {},
   "outputs": [],
   "source": [
    "df_clientes = spark.read.format('csv') \\\n",
    "    .option('header', 'true') \\\n",
    "    .option('inferSchema', 'true') \\\n",
    "    .load(file_path)\n",
    "    \n",
    "# Exibir o DataFrame\n",
    "display(df_clientes)"
   ]
  },
  {
   "cell_type": "markdown",
   "id": "7e079332",
   "metadata": {},
   "source": [
    "# Cria uma tabela temporária\n"
   ]
  },
  {
   "cell_type": "code",
   "execution_count": null,
   "id": "95784898",
   "metadata": {},
   "outputs": [],
   "source": [
    "df_clientes.createOrReplaceTempView('clientes')"
   ]
  },
  {
   "cell_type": "markdown",
   "id": "92af77ca",
   "metadata": {},
   "source": [
    "# Exibe a tabela temporária\n"
   ]
  },
  {
   "cell_type": "code",
   "execution_count": null,
   "id": "22ecc21f",
   "metadata": {},
   "outputs": [],
   "source": [
    "display(spark.sql('SELECT * FROM clientes WHERE first_name = \"Gabriela\" AND state = \"Santa Catarina\"'))"
   ]
  }
 ],
 "metadata": {
  "kernelspec": {
   "display_name": "Python 3",
   "language": "python",
   "name": "python3"
  },
  "language_info": {
   "codemirror_mode": {
    "name": "ipython",
    "version": 3
   },
   "file_extension": ".py",
   "mimetype": "text/x-python",
   "name": "python",
   "nbconvert_exporter": "python",
   "pygments_lexer": "ipython3",
   "version": "3.13.7"
  }
 },
 "nbformat": 4,
 "nbformat_minor": 5
}
