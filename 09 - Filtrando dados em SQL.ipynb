{
 "cells": [
  {
   "cell_type": "markdown",
   "id": "a45bd7a5",
   "metadata": {},
   "source": [
    "### # Lê o volume para verificar se o arquivo JSON está lá"
   ]
  },
  {
   "cell_type": "code",
   "execution_count": null,
   "id": "f37f93ab",
   "metadata": {},
   "outputs": [],
   "source": [
    "dbutils.fs.ls(\"/Volumes/workspace/default/arquivos-aula/Anac/V_OCORRENCIA_AMPLA.json\")"
   ]
  },
  {
   "cell_type": "markdown",
   "id": "782470c2",
   "metadata": {},
   "source": [
    "### # Cria um DataFrame e realiza a leitura dos dados"
   ]
  },
  {
   "cell_type": "code",
   "execution_count": null,
   "id": "051b5b3f",
   "metadata": {},
   "outputs": [],
   "source": [
    "df = spark.read.json(\"/Volumes/workspace/default/arquivos-aula/Anac/V_OCORRENCIA_AMPLA.json\")\n",
    "display(df)"
   ]
  },
  {
   "cell_type": "markdown",
   "id": "211901f1",
   "metadata": {},
   "source": [
    "### # Cria uma tabela temporária com os dados selecionados em linguagem SQL"
   ]
  },
  {
   "cell_type": "code",
   "execution_count": null,
   "id": "b0ded021",
   "metadata": {},
   "outputs": [],
   "source": [
    "pr = df.createOrReplaceTempView(\"ocorrencia_temp\") # Cria uma tabela temporária chamada 'ocorrencia_temp'\n",
    "\n",
    "\n",
    "pr = spark.sql('''\n",
    "              \n",
    "SELECT \"Classificacao_da_Ocorrência\" as Ocorrencia, -- Em colunas com acentuação é preciso incluir aspas e alterar para um nome sem acentuação.\n",
    "        Descricao_do_Tipo as Tipo,\n",
    "        Fase_da_Operacao as Operacao,\n",
    "        Municipio,\n",
    "        UF\n",
    "\n",
    "FROM ocorrencia_temp\n",
    "\n",
    "WHERE UF = 'PR' AND Fase_da_Operacao != \"Pouso\" -- No SQL 'diferente' também pode ser escrito com <>\n",
    "            \n",
    "               \n",
    "''')\n",
    "\n",
    "display(pr)"
   ]
  }
 ],
 "metadata": {
  "language_info": {
   "name": "python"
  }
 },
 "nbformat": 4,
 "nbformat_minor": 5
}
