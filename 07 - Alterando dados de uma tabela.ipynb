{
 "cells": [
  {
   "cell_type": "markdown",
   "id": "fb1dc5cc",
   "metadata": {},
   "source": [
    "### # Recebendo e lendo dados externos no Databricks para leitura e manipulação"
   ]
  },
  {
   "cell_type": "code",
   "execution_count": null,
   "id": "cd80198a",
   "metadata": {},
   "outputs": [],
   "source": [
    "# Primeiro importei um CSV de uma URL somente para mostrar como manipular os dados\n",
    "\n",
    "import pandas as pd\n",
    "\n",
    "url = \"https://raw.githubusercontent.com/databricks/spark-csv/master/src/test/resources/cars.csv\"\n",
    "pdf = pd.read_csv(url)   # pandas lê direto da URL\n",
    "\n",
    "# converte para Spark\n",
    "df = spark.createDataFrame(pdf)\n",
    "display(df)"
   ]
  },
  {
   "cell_type": "markdown",
   "id": "d6b3b36b",
   "metadata": {},
   "source": [
    "### # Alterando o nome das colunas da tabela"
   ]
  },
  {
   "cell_type": "code",
   "execution_count": null,
   "id": "2ee46957",
   "metadata": {},
   "outputs": [],
   "source": [
    "df = df.withColumnRenamed(\"year\", \"Ano\")\\\n",
    "       .withColumnRenamed(\"make\", \"Fabricante\")\\\n",
    "       .withColumnRenamed(\"model\", \"Modelo\")\\\n",
    "       .withColumnRenamed(\"comment\", \"Comentário\")\\\n",
    "       .drop(\"blank\") # Remove a coluna 'blank'\n",
    "\n",
    "display(df)\n"
   ]
  },
  {
   "cell_type": "markdown",
   "id": "117b5939",
   "metadata": {},
   "source": [
    "### # Preenchendo celula com valor Null na coluna"
   ]
  },
  {
   "cell_type": "code",
   "execution_count": null,
   "id": "399b028f",
   "metadata": {},
   "outputs": [],
   "source": [
    "df = df.fillna({\"Comentário\": \"Sem comentário\"}) # Utilizar nomeDoDataFrame.fillna({\"nomeDaColuna\": \"valorQueIraReceber\"})\n",
    "\n",
    "display(df)"
   ]
  },
  {
   "cell_type": "markdown",
   "id": "137b9cf5",
   "metadata": {},
   "source": [
    "### # Substituir valor de uma célula NÃO 'NULL' em uma coluna\n"
   ]
  },
  {
   "cell_type": "code",
   "execution_count": null,
   "id": "c8dca954",
   "metadata": {},
   "outputs": [],
   "source": [
    "from pyspark.sql.functions import when, col # Importa o when do SQL functions\n",
    "\n",
    "df = df.withColumn(\n",
    "    \"Modelo\", # Nome da coluna\n",
    "    when(col(\"Modelo\") == \"S\", \"Séries S\").otherwise(col(\"Modelo\")) # Quando o modelo for \"S\", substitui por \"Séries S\", se não for 'S' mantém o modelo que já estava\n",
    ")\n",
    "\n",
    "display(df)"
   ]
  },
  {
   "cell_type": "markdown",
   "id": "4a2316f2",
   "metadata": {},
   "source": [
    "### # Para substituir qualquer valor existente na coluna inteira (independente do que seja), basta usar lit (literal):\n"
   ]
  },
  {
   "cell_type": "code",
   "execution_count": null,
   "id": "ebe242e7",
   "metadata": {},
   "outputs": [],
   "source": [
    "from pyspark.sql.functions import lit\n",
    "\n",
    "df = df.withColumn(\"Comentário\", lit(\"Sem comentários dos usuários.\"))\n",
    "\n",
    "display(df)"
   ]
  },
  {
   "cell_type": "markdown",
   "id": "287094b6",
   "metadata": {},
   "source": [
    "### # Filtrando colunas (selecionando apenas as que desejo no Data Frame)"
   ]
  },
  {
   "cell_type": "code",
   "execution_count": null,
   "id": "37fc3b4a",
   "metadata": {},
   "outputs": [],
   "source": [
    "df_filtrado = df.select(\"Fabricante\", \"Modelo\", \"Ano\")\n",
    "\n",
    "display(df_filtrado)"
   ]
  },
  {
   "cell_type": "markdown",
   "id": "1aa75815",
   "metadata": {},
   "source": [
    "### # Selecionar apenas os fabricantes com nomes diferentes um dos outros (distintos)"
   ]
  },
  {
   "cell_type": "code",
   "execution_count": null,
   "id": "10a984e0",
   "metadata": {},
   "outputs": [],
   "source": [
    "display(df.select(\"Fabricante\").distinct()) # Nesse exemplo o resultado trouxe os mesmos 3 fabricantes porque já são distintos. Porém em casos de mais fabricantes em que alguns se repetem, a select retornaria apenas os que não distintos entre sí.\n"
   ]
  },
  {
   "cell_type": "markdown",
   "id": "638cbf0c",
   "metadata": {},
   "source": [
    "### # Informar o número de fabricantes distintos\n"
   ]
  },
  {
   "cell_type": "code",
   "execution_count": null,
   "id": "ca0902fb",
   "metadata": {},
   "outputs": [],
   "source": [
    "display(df.select(\"Fabricante\").distinct().count()) # Retorna o número de fabricantes distintos (neste exemplo são 3)"
   ]
  }
 ],
 "metadata": {
  "language_info": {
   "name": "python"
  }
 },
 "nbformat": 4,
 "nbformat_minor": 5
}
