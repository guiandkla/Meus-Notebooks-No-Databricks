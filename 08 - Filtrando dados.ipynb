{
 "cells": [
  {
   "cell_type": "markdown",
   "id": "fea1316a",
   "metadata": {},
   "source": [
    "### # Listar o arquivo no Volume (DB)"
   ]
  },
  {
   "cell_type": "code",
   "execution_count": null,
   "id": "e4229417",
   "metadata": {},
   "outputs": [],
   "source": [
    "dbutils.fs.ls(\"/Volumes/workspace/default/arquivos-aula/Anac/V_OCORRENCIA_AMPLA.json\")\n",
    "\n",
    "### # Lendo o arquivo JSON listado\n",
    "\n",
    "df = spark.read.json(\"/Volumes/workspace/default/arquivos-aula/Anac/V_OCORRENCIA_AMPLA.json\")\n",
    "display(df)\n",
    "\n",
    "### # Filtrando apenas por um único estado\n",
    "\n",
    "df.filter(df.UF == \"SC\") # Como é uma STRING, precisa ser sempre entre aspas (simples ou dupla)\n",
    "\n",
    "display(df.filter(df.UF == \"SC\"))\n",
    "\n",
    "### # Salvando a seleção em um novo DF para não precisar alterar o DF original\n",
    "\n",
    "df_SC = df.filter(df.UF == \"SC\")\n",
    "display(df_SC)"
   ]
  },
  {
   "cell_type": "markdown",
   "id": "1ecfa0a1",
   "metadata": {},
   "source": [
    "### # Transformar a coluna \"Passageiros Ilesos\" que apesar de ser número estão como String, para INT, e então descobrir qual é o valor máximo (número maior)"
   ]
  },
  {
   "cell_type": "code",
   "execution_count": null,
   "id": "7a334fa6",
   "metadata": {},
   "outputs": [],
   "source": [
    "from pyspark.sql.functions import col\n",
    "\n",
    "max_ilesos = df_SC.withColumn(\"Ilesos_Passageiros\", col(\"Ilesos_Passageiros\").cast(\"int\")) \\\n",
    "                  .orderBy(col(\"Ilesos_Passageiros\").desc()) \\\n",
    "                  .limit(1)\n",
    "\n",
    "# .cast(\"int\") _> transforma o valor das células da coluna em INT\n",
    "# .desc() -> ordena do maior para o menor\n",
    "# .limit(1) -> traz apenas 1 resultado\n",
    "\n",
    "display(max_ilesos)"
   ]
  },
  {
   "cell_type": "markdown",
   "id": "ee2636db",
   "metadata": {},
   "source": [
    "### # Fazendo filtros compostos com '&' (E) e '|' (OU)"
   ]
  },
  {
   "cell_type": "code",
   "execution_count": null,
   "id": "6f3d82b7",
   "metadata": {},
   "outputs": [],
   "source": [
    "display(df.filter((df.Danos_a_Aeronave == \"Substancial\") & (df.Municipio == \"JOINVILLE\"))) # Filtrando com & (e)\n",
    "\n",
    "display(df.filter((df.Danos_a_Aeronave == \"Leve\") | (df.Classificacao_da_Ocorrência == \"Incidente\"))) # Filtrando com | (ou)\n"
   ]
  },
  {
   "cell_type": "markdown",
   "id": "0086b429",
   "metadata": {},
   "source": [
    "### # Filtrando com WHERE (onde/em que)"
   ]
  },
  {
   "cell_type": "code",
   "execution_count": null,
   "id": "82c269bf",
   "metadata": {},
   "outputs": [],
   "source": [
    "df.where(df.Modelo == \"SR22\")\n",
    "\n",
    "display(df.where(df.Modelo == \"SR22\"))"
   ]
  },
  {
   "cell_type": "markdown",
   "id": "bc8ba562",
   "metadata": {},
   "source": [
    "### # Filtrando com WHERE junto com &"
   ]
  },
  {
   "cell_type": "code",
   "execution_count": null,
   "id": "6867d1d0",
   "metadata": {},
   "outputs": [],
   "source": [
    "display(df.where((df.Modelo == \"SR22\") & (df.Danos_a_Aeronave == \"Substancial\")))"
   ]
  }
 ],
 "metadata": {
  "language_info": {
   "name": "python"
  }
 },
 "nbformat": 4,
 "nbformat_minor": 5
}
