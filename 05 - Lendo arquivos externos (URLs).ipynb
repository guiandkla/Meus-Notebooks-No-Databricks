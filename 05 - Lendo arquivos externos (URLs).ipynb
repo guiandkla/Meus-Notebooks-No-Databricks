{
 "cells": [
  {
   "cell_type": "markdown",
   "id": "3cd529fb",
   "metadata": {},
   "source": [
    "### # Para realizar a leitura de arquivos externos deve-se importar requests (para salvar no DBFS) ou Pandas (para arquivos menores) sem precisar salvar no DBFS do Databricks\n"
   ]
  },
  {
   "cell_type": "code",
   "execution_count": null,
   "id": "4ce7d7af",
   "metadata": {},
   "outputs": [],
   "source": [
    "import requests\n",
    "\n",
    "caminhoParaOArquivo = \"https://raw.githubusercontent.com/databricks/spark-csv/master/src/test/resources/cars.csv\"\n",
    "requisicao = requests.get(caminhoParaOArquivo)\n",
    "\n",
    "# salva no DBFS\n",
    "with open(\"/Volumes/workspace/default/arquivos-aula/cars.csv\", \"wb\") as arquivo:\n",
    "    arquivo.write(requisicao.content)\n",
    "\n",
    "# agora lê com Spark\n",
    "df_daWeb = spark.read.csv(\"dbfs:/Volumes/workspace/default/arquivos-aula/cars.csv\", header=True, inferSchema=True)\n",
    "display(df_daWeb)"
   ]
  },
  {
   "cell_type": "markdown",
   "id": "6627fc57",
   "metadata": {},
   "source": [
    "### # Lendo arquivos externos com Pandas (mais fácil porque não precisa salvar no DBFS)"
   ]
  },
  {
   "cell_type": "code",
   "execution_count": null,
   "id": "a2783182",
   "metadata": {},
   "outputs": [],
   "source": [
    "import pandas as pd\n",
    "\n",
    "url = \"https://raw.githubusercontent.com/databricks/spark-csv/master/src/test/resources/cars.csv\"\n",
    "pdf = pd.read_csv(url)   # pandas lê direto da URL\n",
    "\n",
    "# converte para Spark\n",
    "df = spark.createDataFrame(pdf)\n",
    "df.display()"
   ]
  },
  {
   "cell_type": "markdown",
   "id": "670e67bd",
   "metadata": {},
   "source": [
    "### # Renomeando as colunas do arquivo da Web e excluíndo coluna inteiramente nula (Null)"
   ]
  },
  {
   "cell_type": "code",
   "execution_count": null,
   "id": "0034e321",
   "metadata": {},
   "outputs": [],
   "source": [
    "df_daWeb = df_daWeb.withColumnRenamed(\"year\", \"Ano\")\\\n",
    "                   .withColumnRenamed(\"make\", \"Fabricante\")\\\n",
    "                   .withColumnRenamed(\"model\", \"Modelo\")\\\n",
    "                   .withColumnRenamed(\"comment\", \"Comentário\")\\\n",
    "                   .drop(\"blank\") # Exclui a coluna \"blank\"\n",
    "\n",
    "display(df_daWeb)"
   ]
  },
  {
   "cell_type": "markdown",
   "id": "60ac3c43",
   "metadata": {},
   "source": [
    "### # Preenchendo celula com valor Null em uma coluna"
   ]
  },
  {
   "cell_type": "code",
   "execution_count": null,
   "id": "d0ec8db8",
   "metadata": {},
   "outputs": [],
   "source": [
    "df_daWeb = df_daWeb.fillna({\"Comentário\": \"Sem comentário\"})\n",
    "\n",
    "display(df_daWeb)"
   ]
  },
  {
   "cell_type": "markdown",
   "id": "b2d3b1cf",
   "metadata": {},
   "source": [
    "### # Substituir valor de uma célula NÃO 'NULL' em uma coluna"
   ]
  },
  {
   "cell_type": "code",
   "execution_count": null,
   "id": "abfddf86",
   "metadata": {},
   "outputs": [],
   "source": [
    "from pyspark.sql.functions import when, col # Importa o when do SQL functions\n",
    "\n",
    "df_daWeb = df_daWeb.withColumn(\n",
    "    \"Modelo\", # Nome da coluna\n",
    "    when(col(\"Modelo\") == \"S\", \"Séries S\").otherwise(col(\"Modelo\")) # Quando o modelo for \"S\", substitui por \"Séries S\", se não for 'S' mantém o modelo que já estava\n",
    ")\n",
    "\n",
    "display(df_daWeb)"
   ]
  },
  {
   "cell_type": "markdown",
   "id": "6596b926",
   "metadata": {},
   "source": [
    "### # Para substituir qualquer valor existente na coluna inteira (independente do que seja), basta usar lit (literal):"
   ]
  },
  {
   "cell_type": "code",
   "execution_count": null,
   "id": "a1b8719c",
   "metadata": {},
   "outputs": [],
   "source": [
    "from pyspark.sql.functions import lit\n",
    "\n",
    "df_daWeb = df_daWeb.withColumn(\"Comentário\", lit(\"Sem comentários dos usuários.\"))\n",
    "\n",
    "display(df_daWeb)"
   ]
  }
 ],
 "metadata": {
  "language_info": {
   "name": "python"
  }
 },
 "nbformat": 4,
 "nbformat_minor": 5
}
