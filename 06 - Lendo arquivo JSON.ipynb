{
 "cells": [
  {
   "cell_type": "markdown",
   "id": "b3653062",
   "metadata": {},
   "source": [
    "### # Lendo um arquivo formato JSON\n"
   ]
  },
  {
   "cell_type": "code",
   "execution_count": null,
   "id": "b633152c",
   "metadata": {},
   "outputs": [],
   "source": [
    "df = spark.read.json(\"/Volumes/workspace/default/arquivos-aula/Anac/V_OCORRENCIA_AMPLA.json\")\n",
    "display(df)"
   ]
  },
  {
   "cell_type": "markdown",
   "id": "6a927b78",
   "metadata": {},
   "source": [
    "### # Renomeando as colunas da tabela\n"
   ]
  },
  {
   "cell_type": "code",
   "execution_count": null,
   "id": "8e2f23d1",
   "metadata": {},
   "outputs": [],
   "source": [
    "novo_df = df.withColumnRenamed(\"Aerodromo_de_Destino\", \"Destino\")\\\n",
    "    .withColumnRenamed(\"Aerodromo_de_Origem\", \"Origem\")\\\n",
    "    .withColumnRenamed(\"Classificacao_da_Ocorrência\", \"Classificação\") ## Repare que eu criei um novo Data Frame (novo_df), para não mexer no original\n",
    "\n",
    "display(novo_df)"
   ]
  },
  {
   "cell_type": "markdown",
   "id": "2e526e71",
   "metadata": {},
   "source": [
    "### # Filtrando apenas as colunas renomeadas"
   ]
  },
  {
   "cell_type": "code",
   "execution_count": null,
   "id": "0e54094e",
   "metadata": {},
   "outputs": [],
   "source": [
    "df_filtrado = novo_df.select(\"Destino\", \"Origem\", \"Classificação\")\n",
    "\n",
    "display(df_filtrado)"
   ]
  },
  {
   "cell_type": "markdown",
   "id": "2784b4c3",
   "metadata": {},
   "source": [
    "### # Salvar os dados em um arquivo 'gzip' - formato comprimido"
   ]
  },
  {
   "cell_type": "code",
   "execution_count": null,
   "id": "35299cdf",
   "metadata": {},
   "outputs": [],
   "source": [
    "df_filtrado.write \\\n",
    "    .format(\"json\")\\\n",
    "    .option(\"compression\", \"gzip\")\\\n",
    "    .mode(\"overwrite\")\\\n",
    "    .save(\"/Volumes/workspace/default/arquivos-aula/Anac/JSON_GZIP\")"
   ]
  },
  {
   "cell_type": "markdown",
   "id": "04414a26",
   "metadata": {},
   "source": [
    "### # Lendo a pasta Anac (onde foi salvo o arquivo) para verificarmos se deu certo"
   ]
  },
  {
   "cell_type": "code",
   "execution_count": null,
   "id": "d3914b93",
   "metadata": {},
   "outputs": [],
   "source": [
    "display(\"/Volumes/workspace/default/arquivos-aula/Anac/JSON_GZIP\")"
   ]
  },
  {
   "cell_type": "markdown",
   "id": "ffc57875",
   "metadata": {},
   "source": [
    "### # Agora (verificando acima que existe o arquivo salvo na pasta Anac) realizamos a leitura do arquivo JSON comprimido em GZIP\n"
   ]
  },
  {
   "cell_type": "code",
   "execution_count": null,
   "id": "fe8a1352",
   "metadata": {},
   "outputs": [],
   "source": [
    "df = spark.read.json(\"/Volumes/workspace/default/arquivos-aula/Anac/JSON_GZIP\")\n",
    "display(df.limit(15)) # df.limit(15) -> Limita a visualização a apenas 15 linhas ta tabela. Removendo o .limit(15) você pode visualizar todas as linhas"
   ]
  }
 ],
 "metadata": {
  "language_info": {
   "name": "python"
  }
 },
 "nbformat": 4,
 "nbformat_minor": 5
}
