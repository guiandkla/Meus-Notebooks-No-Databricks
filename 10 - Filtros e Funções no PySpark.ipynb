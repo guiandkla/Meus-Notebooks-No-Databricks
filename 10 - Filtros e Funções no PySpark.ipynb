{
 "cells": [
  {
   "cell_type": "markdown",
   "id": "925088fb",
   "metadata": {},
   "source": [
    "### # O PySpark fornece uma ampla gama de funções dentro do módulo pyspark.sql.functions, segue abaixo alguns exemplos:"
   ]
  },
  {
   "cell_type": "code",
   "execution_count": null,
   "id": "9ab12a4e",
   "metadata": {},
   "outputs": [],
   "source": [
    "from pyspark.sql.functions import * # Importa TODAS as importações, para uma específica é só trocar o * pelo nome da import desejada\n",
    "\n",
    "dbutils.fs.ls(\"/Volumes/workspace/default/arquivos-aula/Anac/V_OCORRENCIA_AMPLA.json\") # Confirma a presença do arquivo no DBFS\n",
    "\n",
    "df = spark.read.json(\"/Volumes/workspace/default/arquivos-aula/Anac/V_OCORRENCIA_AMPLA.json\") # Salva o conteúdo do arquivo num Data Frame\n",
    "\n",
    "display(df) # Mostra o conteúdo do Data Frame"
   ]
  },
  {
   "cell_type": "markdown",
   "id": "f685157b",
   "metadata": {},
   "source": [
    "### # Utilizando o método 'col' (coluna)"
   ]
  },
  {
   "cell_type": "code",
   "execution_count": null,
   "id": "c78478df",
   "metadata": {},
   "outputs": [],
   "source": [
    "display(df.filter(col(\"UF\") == \"SC\")) # Seleciona apenas os dados cuja coluna UF está preenchida com 'SC'\n",
    "\n",
    "# Diferença para a forma que estava utilizando sem a importação da biblioteca:\n",
    "# display(df.filter(df.UF == \"SC\"))\n"
   ]
  },
  {
   "cell_type": "markdown",
   "id": "9a913b0a",
   "metadata": {},
   "source": [
    "### # Filtrando pelo índice da coluna (localizando índice em dados com várias colunas)"
   ]
  },
  {
   "cell_type": "code",
   "execution_count": null,
   "id": "50997156",
   "metadata": {},
   "outputs": [],
   "source": [
    "# Retorna o resultado (número) da coluna pesquisada. Por exemplo, o número (índice) da coluna pesquisada 'Categoria_da_Aeronave' é 30, então essa coluna é a de número 30 (sempre inicia a contagem no índice 0).\n",
    "\n",
    "Coluna = \"Municipio\"\n",
    "Indice = df.columns.index(Coluna)\n",
    "\n",
    "display(Indice)"
   ]
  },
  {
   "cell_type": "markdown",
   "id": "11d9c4b8",
   "metadata": {},
   "source": [
    "### # Lista vazia para inserção de dados (mais fácil de visualizar nome da coluna e índice)"
   ]
  },
  {
   "cell_type": "code",
   "execution_count": null,
   "id": "35962ea7",
   "metadata": {},
   "outputs": [],
   "source": [
    "ListaIndices = []\n",
    "\n",
    "# Loop\n",
    "for Coluna in df.columns:\n",
    "    Indice = df.columns.index(Coluna)\n",
    "    ListaIndices.append((Coluna, Indice))\n",
    "\n",
    "# Salva o resultado em um novo Data Frame\n",
    "df_indices = spark.createDataFrame(ListaIndices, [\"Coluna\", \"Indice\"])\n",
    "\n",
    "display(df_indices)"
   ]
  },
  {
   "cell_type": "markdown",
   "id": "d531282b",
   "metadata": {},
   "source": [
    "### # Filtrando pelo índice mostrado acima"
   ]
  },
  {
   "cell_type": "code",
   "execution_count": null,
   "id": "39c10e8b",
   "metadata": {},
   "outputs": [],
   "source": [
    "df_filtrado = df.filter(col(df.columns[44]) == \"SC\")\n",
    "display(df_filtrado)"
   ]
  },
  {
   "cell_type": "markdown",
   "id": "7ccecc78",
   "metadata": {},
   "source": [
    "### # Filtro com variáveis"
   ]
  },
  {
   "cell_type": "code",
   "execution_count": null,
   "id": "40cfcadb",
   "metadata": {},
   "outputs": [],
   "source": [
    "Coluna = 'Classificacao_da_Ocorrência'\n",
    "Filtro = 'Acidente'\n",
    "display(df.filter(df[Coluna] == Filtro))"
   ]
  },
  {
   "cell_type": "markdown",
   "id": "e262ef2c",
   "metadata": {},
   "source": [
    "### # Outro exemplo de filtro com variável"
   ]
  },
  {
   "cell_type": "code",
   "execution_count": null,
   "id": "b6907744",
   "metadata": {},
   "outputs": [],
   "source": [
    "Coluna = 'Fase_da_Operacao'\n",
    "Filtro = 'Decolagem'\n",
    "\n",
    "display(df.filter(df[Coluna] == Filtro))"
   ]
  },
  {
   "cell_type": "markdown",
   "id": "9d1da2b1",
   "metadata": {},
   "source": [
    "### # Filtro composto com as variáveis"
   ]
  },
  {
   "cell_type": "code",
   "execution_count": null,
   "id": "0775dcb3",
   "metadata": {},
   "outputs": [],
   "source": [
    "Coluna1 = 'Fase_da_Operacao'\n",
    "Filtro1 = 'Decolagem'\n",
    "Coluna2 = 'UF'\n",
    "Filtro2 = 'SC'\n",
    "Coluna3 = 'Classificacao_da_Ocorrência'\n",
    "Filtro3 = 'Incidente'\n",
    "Coluna4 = 'Danos_a_Aeronave'\n",
    "Filtro4 = 'Nenhum'\n",
    "\n",
    "df = df.fillna(\"Não informado\") # Preenche as informações 'Null' com a frase \"Não informado\"\n",
    "\n",
    "# Incluir entre os critérios de seleção de uma coluna e da outra o operador lógico & (AND) ou | (OR). Além de  == (igual) ou != (diferente) do Filtro.\n",
    "display(df.filter((df[Coluna1] == Filtro1) & (df[Coluna2] == Filtro2) & (df[Coluna3] == Filtro3) & (df[Coluna4] == Filtro4)))"
   ]
  }
 ],
 "metadata": {
  "language_info": {
   "name": "python"
  }
 },
 "nbformat": 4,
 "nbformat_minor": 5
}
