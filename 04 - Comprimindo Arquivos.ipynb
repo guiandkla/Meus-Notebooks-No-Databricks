{
 "cells": [
  {
   "cell_type": "markdown",
   "id": "13284e22",
   "metadata": {},
   "source": [
    "### # Salvando arquivos em tamanhos comprimidos (semelhante as pastas ZIP)"
   ]
  },
  {
   "cell_type": "code",
   "execution_count": null,
   "id": "c6c4d1a8",
   "metadata": {},
   "outputs": [],
   "source": [
    "# Primeiro verificamos o conteúdo dos arquivos com um display\n",
    "\n",
    "display(dbutils.fs.ls(\"/Volumes/workspace/default/arquivos-aula/Anac/V_OCORRENCIA_AMPLA.csv\"))\n",
    "\n",
    "display(dbutils.fs.ls(\"/Volumes/workspace/default/arquivos-aula/Anac/V_OCORRENCIA_AMPLA-zip\"))"
   ]
  },
  {
   "cell_type": "markdown",
   "id": "bbda4437",
   "metadata": {},
   "source": [
    "### # Salva o conteúdo do arquivo em um Data Frame"
   ]
  },
  {
   "cell_type": "code",
   "execution_count": null,
   "id": "f4cdc8e9",
   "metadata": {},
   "outputs": [],
   "source": [
    "# Salva o caminho para o arquivo em uma variável\n",
    "path_file = \"/Volumes/workspace/default/arquivos-aula/Anac/V_OCORRENCIA_AMPLA.csv\"\n",
    "\n",
    "# Leitura do arquivo csv\"\n",
    "df_Ocorrencia = spark.read\\\n",
    "    .format(\"csv\") \\\n",
    "    .option(\"skipRows\", 1) \\\n",
    "    .option(\"header\", True) \\\n",
    "    .option(\"sep\", \";\")\\\n",
    "    .option(\"inferSchema\", True)\\\n",
    "    .load(path_file)\n",
    "\n",
    "display(df_Ocorrencia)\n"
   ]
  },
  {
   "cell_type": "markdown",
   "id": "2fe7d82b",
   "metadata": {},
   "source": [
    "### # Salva o arquivo no formato comprimido (É semelhante a compactar uma pasta para ocupar menos espaço e pagar menos em ambientes Cloud)"
   ]
  },
  {
   "cell_type": "code",
   "execution_count": null,
   "id": "85be7602",
   "metadata": {},
   "outputs": [],
   "source": [
    "df_Ocorrencia.write\\\n",
    "    .format(\"csv\") \\\n",
    "    .option(\"compression\", \"gzip\") \\\n",
    "    .option(\"header\", \"true\") \\\n",
    "    .option(\"sep\", \";\") \\\n",
    "    .mode(\"overwrite\") \\\n",
    "    .save(\"/Volumes/workspace/default/arquivos-aula/Anac/V_OCORRENCIA_AMPLA-zip\")"
   ]
  },
  {
   "cell_type": "markdown",
   "id": "88ad0538",
   "metadata": {},
   "source": [
    "### # Listando os arquivos no volume para vermos se deu certo"
   ]
  },
  {
   "cell_type": "code",
   "execution_count": null,
   "id": "bc7a524b",
   "metadata": {},
   "outputs": [],
   "source": [
    "display(dbutils.fs.ls(\"/Volumes/workspace/default/arquivos-aula/Anac/V_OCORRENCIA_AMPLA-zip\"))"
   ]
  },
  {
   "cell_type": "markdown",
   "id": "daf602bc",
   "metadata": {},
   "source": [
    "### # Lendo o arquivo salvo em tamanho reduzido"
   ]
  },
  {
   "cell_type": "code",
   "execution_count": null,
   "id": "4339e0f9",
   "metadata": {},
   "outputs": [],
   "source": [
    "path_file = \"/Volumes/workspace/default/arquivos-aula/Anac/V_OCORRENCIA_AMPLA-zip\"\n",
    "\n",
    "df_arquivoZip = spark.read\\\n",
    "    .option(\"compression\", \"gzip\") \\\n",
    "    .format(\"csv\") \\\n",
    "    .option(\"header\", \"true\")\\\n",
    "    .option(\"inferSchema\", \"true\")\\\n",
    "    .option(\"sep\", \";\")\\\n",
    "    .load(path_file)\n",
    "\n",
    "display(df_arquivoZip)"
   ]
  }
 ],
 "metadata": {
  "language_info": {
   "name": "python"
  }
 },
 "nbformat": 4,
 "nbformat_minor": 5
}
