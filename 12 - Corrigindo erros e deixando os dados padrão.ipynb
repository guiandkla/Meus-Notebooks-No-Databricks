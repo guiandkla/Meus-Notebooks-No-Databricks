{
 "cells": [
  {
   "cell_type": "markdown",
   "id": "abf4c089",
   "metadata": {},
   "source": [
    "### # Databricks notebook source"
   ]
  },
  {
   "cell_type": "code",
   "execution_count": null,
   "id": "bcdfde6b",
   "metadata": {},
   "outputs": [],
   "source": [
    "dbutils.fs.ls(\"/Volumes/workspace/default/arquivos-aula/Anac/V_OCORRENCIA_AMPLA.json\")\n",
    "\n",
    "df = spark.read.json(\"/Volumes/workspace/default/arquivos-aula/Anac/V_OCORRENCIA_AMPLA.json\")\n",
    "display(df)"
   ]
  },
  {
   "cell_type": "markdown",
   "id": "9fc3b279",
   "metadata": {},
   "source": [
    "### # Identificar se existe mais de uma forma de escrita utilizando o 'distinct()'\n"
   ]
  },
  {
   "cell_type": "code",
   "execution_count": null,
   "id": "9553a380",
   "metadata": {},
   "outputs": [],
   "source": [
    "df.select(\"Fase_da_Operacao\").distinct().show()"
   ]
  },
  {
   "cell_type": "markdown",
   "id": "73a2b607",
   "metadata": {},
   "source": [
    "### # Ajustando letras maiúsculas e minúsculas para deixar a tabela com padrão de escrita\n"
   ]
  },
  {
   "cell_type": "code",
   "execution_count": null,
   "id": "0ef71adc",
   "metadata": {},
   "outputs": [],
   "source": [
    "# Deixando tudo em letra maiúscula:\n",
    "\n",
    "from pyspark.sql.functions import upper, lower, initcap # Utilizar 'upper' para tudo maiúsculo, 'lower' para tudo minúsculo, e 'initcap' para deixar a primeira letra maiúscula (mesmo em palavras compostas ou frases. Ex: Primeira Letra Maiúscula)\n",
    "\n",
    "display(df.select(upper(\"Fase_da_Operacao\")).distinct()) # Upper\n",
    "\n",
    "display(df.select(lower(\"Fase_da_Operacao\")).distinct()) # Lower\n",
    "\n",
    "display(df.select(initcap(\"Fase_da_Operacao\")).distinct()) # Initcap"
   ]
  },
  {
   "cell_type": "markdown",
   "id": "f696cff1",
   "metadata": {},
   "source": [
    "### # Para garantir que não haverá erro na busca dos dados por conta do case sensitive (diferença entre letras maiúsculas e minúsculas) é só deixar tudo em maiúsculo ou minúsculo e fazer a busca\n"
   ]
  },
  {
   "cell_type": "code",
   "execution_count": null,
   "id": "2480810a",
   "metadata": {},
   "outputs": [],
   "source": [
    "# Exemplo de busca com todas as letras do resultado da coluna (todas as letras das células) em maiúsculo\n",
    "display(df.filter(upper(df.Fase_da_Operacao) == 'DECOLAGEM')) # Retorna todos os dados cuja fase da operação é 'Decolagem', sem distinção entre maiúsculas e minúsculas, porque se eu pesquisasse com 'D' maiúsculo poderia haver alguma célula preenchida com 'D' minúsculo e então não iria aparecer na pesquisa.\n",
    "\n",
    "## Salva em um novo Data Frame\n",
    "\n",
    "novo_df = df.filter(upper(df.Fase_da_Operacao) == 'DECOLAGEM')\n",
    "display(novo_df)\n",
    "\n",
    "## Resolvendo erros de digitação (espaços excessivos)\n",
    "\n",
    "# Criando um Data Frame com dados fictícios para amostra de como corrigir os erros de 'espaço'\n",
    "\n",
    "Dados = [(\" São José dos Pinhais \", \"PR\", 100), # Espaços a mais de propósito\n",
    "         (\"São  Paulo\", \"SP\", 20),\n",
    "         (\"Rio de Janeiro \", \"RJ\", 20),\n",
    "         (\" Brasília\", \"DF\", 303030),\n",
    "         (\"Belo Horizonte\", \"MG\", 252525)]\n",
    "\n",
    "Colunas = [\"Cidade\", \"UF\", \"Número\"]\n",
    "\n",
    "dataFrame = spark.createDataFrame(Dados, Colunas)\n",
    "\n",
    "display(dataFrame)"
   ]
  },
  {
   "cell_type": "markdown",
   "id": "34edfb62",
   "metadata": {},
   "source": [
    "### # Para corrigir o \"erro\" acima, é necessário importar as funções rtrim, ltrim e trim do sql.functions\n"
   ]
  },
  {
   "cell_type": "code",
   "execution_count": null,
   "id": "180565aa",
   "metadata": {},
   "outputs": [],
   "source": [
    "from pyspark.sql.functions import * # Ou importa nome por nome, ltrim, rtrim e trim\n",
    "\n",
    "# trim: Remove os espaços em branco do início e do final de uma coluna\n",
    "# ltrim: Remove os espaços em branco do início de uma coluna (esquerda)\n",
    "# rtrim: Remove os espaços em branco do final de uma coluna (direita)\n",
    "\n",
    "display(dataFrame.filter(ltrim(dataFrame.Cidade) == 'Brasilia'))\n",
    "\n",
    "### # Utilizando ltrim e rtrim (remove espaços da esquerda e direita)\n",
    "\n",
    "display(dataFrame.filter(ltrim(rtrim(dataFrame.Cidade)) == \"Sao Jose dos Pinhais\")) # Remove da esquerda e depois da direita.\n",
    "\n",
    "display(dataFrame.filter(trim(dataFrame.Cidade) == \"Sao Jose dos Pinhais\")) # Remove de ambos os lados de uma só vez.\n"
   ]
  },
  {
   "cell_type": "markdown",
   "id": "fb48db05",
   "metadata": {},
   "source": [
    "### # Resolvendo o 'problema' com palavras acentuadas\n"
   ]
  },
  {
   "cell_type": "code",
   "execution_count": null,
   "id": "84b8dde8",
   "metadata": {},
   "outputs": [],
   "source": [
    "from pyspark.sql.functions import regexp_replace\n",
    "\n",
    "df_cidades = dataFrame.withColumn(\"CidadeSemAcento\", regexp_replace(dataFrame.Cidade, \"ã\", \"a\")) # Altera 'ã' para 'a'\n",
    "display(df_cidades)\n",
    "\n",
    "## Alterar todos os acentos da língua portuguesa para não dar erro nas consultas (\"normalizar\" SEM ACENTO)\n",
    "\n",
    "from pyspark.sql.functions import translate\n",
    "\n",
    "# Precisa ser sempre na ordem abaixo:\n",
    "Acentos = \"áàãâéèêíìóòõôúùûçÁÀÃÂÉÈÊÍÌÓÒÕÔÚÙÛÇ\"\n",
    "SemAcentos = \"aaaaeeeiioooouuucAAAAEEEIIOOOOUUUC\"\n",
    "\n",
    "# Aplicar a substituição utilizando a função translate\n",
    "df_cidades = df_cidades.withColumn(\"CidadeSemAcento\", translate(df_cidades.CidadeSemAcento, Acentos, SemAcentos))\n",
    "\n",
    "display(df_cidades.filter(trim(df_cidades.CidadeSemAcento) == \"Sao Jose dos Pinhais\"))\n",
    "\n",
    "\n",
    "## Removendo acento, espaço excessivo e deixando tudo maiúsculo\n",
    "\n",
    "from pyspark.sql.functions import translate, upper, trim\n",
    "\n",
    "Acentos = \"áàãâéèêíìóòõôúùûçÁÀÃÂÉÈÊÍÌÓÒÕÔÚÙÛÇ\"\n",
    "SemAcentos = \"aaaaeeeiioooouuucAAAAEEEIIOOOOUUUC\"\n",
    "\n",
    "\n",
    "df_cidades = df_cidades.withColumn(\"CidadeSemAcento\", trim(upper(translate(df_cidades.Cidade, Acentos, SemAcentos))))\n",
    "\n",
    "display(df_cidades)"
   ]
  },
  {
   "cell_type": "markdown",
   "id": "ae8390ba",
   "metadata": {},
   "source": [
    "### # Função LIKE\n"
   ]
  },
  {
   "cell_type": "code",
   "execution_count": null,
   "id": "554005a6",
   "metadata": {},
   "outputs": [],
   "source": [
    "# dbutils.fs.ls(\"/Volumes/workspace/default/arquivos-aula/Anac/V_OCORRENCIA_AMPLA.json\")\n",
    "# df = spark.read.json(\"/Volumes/workspace/default/arquivos-aula/Anac/V_OCORRENCIA_AMPLA.json\")\n",
    "# display(df)\n",
    "\n",
    "# Filtro para um trecho específico\n",
    "\n",
    "df = df.withColumn(\"Classificacao_da_Ocorrencia\", regexp_replace(df.Classificacao_da_Ocorrência, \"ê\", \"e\"))\n",
    "\n",
    "display(df)\n",
    "\n",
    "resultado = df.filter(df.Classificacao_da_Ocorrencia.like(\"%Incidente\")) # Utilizar o '.like'\n",
    "\n",
    "# %Texto% --> Retorna tudo que está antes e após o texto na mesma célula\n",
    "# Texto%  --> Retorna tudo que está depois do texto na mesma célula\n",
    "# %Texto  --> Retorna tudo que está antes do texto na mesma célula\n",
    "\n",
    "display(resultado)"
   ]
  },
  {
   "cell_type": "markdown",
   "id": "a94d119c",
   "metadata": {},
   "source": [
    "### # Filtrando valores numéricos"
   ]
  },
  {
   "cell_type": "code",
   "execution_count": null,
   "id": "b38b055c",
   "metadata": {},
   "outputs": [],
   "source": [
    "dbutils.fs.ls(\"/Volumes/workspace/default/arquivos-aula/Bike Store\")\n",
    "\n",
    "orders_df = spark.read.\\\n",
    "    format(\"csv\")\\\n",
    "    .option(\"header\", \"true\")\\\n",
    "    .option(\"inferSchema\", \"true\")\\\n",
    "    .load(\"/Volumes/workspace/default/arquivos-aula/Bike Store/orders.csv\")\n",
    "\n",
    "display(orders_df)"
   ]
  },
  {
   "cell_type": "code",
   "execution_count": null,
   "id": "ae188df4",
   "metadata": {},
   "outputs": [],
   "source": [
    "### # Filtrando ordem cujo status é 1 \n",
    "\n",
    "display(orders_df.filter(orders_df.order_status == 1))\n",
    "\n",
    "### # Salvando em um novo DF simulando que o status '1' seja pedidos pendentes\n",
    "\n",
    "\n",
    "pedidosPendentes = orders_df.filter(orders_df.order_status == 1)\n",
    "\n",
    "display(pedidosPendentes)\n",
    "\n",
    "### # Simulando pedidos de uma loja específica\n",
    "\n",
    "\n",
    "display(pedidosPendentes.select(\"store_id\").distinct().count()) # Descobrindo quantas lojas tem na coluna 'store_id' (Três lojas diferentes)\n",
    "\n",
    "### # Selecionando a loja 1\n",
    "\n",
    "loja1 = orders_df.filter(orders_df.store_id == 1)\n",
    "display(loja1) # Retorna todos os dados em que a loja é a de 'ID' número 1 (store_id == 1)\n",
    "\n",
    "### # Simulando pedidos diferentes de uma loja específica\n",
    "\n",
    "# Retorna todos os dados das lojas 'menos' os da loja 1\n",
    "# Um exemplo real é um cara que é Gerente das lojas 2 e 3 mas não é da loja 1, e pediu relatório das lojas dele (2 e 3 apenas).\n",
    "\n",
    "\n",
    "fora1 = orders_df.filter(orders_df.store_id != 1)\n",
    "display(fora1)\n",
    "\n",
    "### Filtrando loja 3 com status 1 (filtro composto)\n",
    "\n",
    "# Retorna todos os dados cujo status é 1 'E' a loja tem o id 2\n",
    "\n",
    "statusUm = orders_df.filter((orders_df.order_status == 1) & (orders_df.store_id == 2))\n",
    "\n",
    "display(statusUm)"
   ]
  },
  {
   "cell_type": "markdown",
   "id": "1de3c313",
   "metadata": {},
   "source": [
    "### # Carregando novos dados da DBFS para consulta de preços"
   ]
  },
  {
   "cell_type": "code",
   "execution_count": null,
   "id": "7269d5e1",
   "metadata": {},
   "outputs": [],
   "source": [
    "dbutils.fs.ls(\"/Volumes/workspace/default/arquivos-aula/Bike Store/order_items.csv\")\n",
    "\n",
    "# Armazena os dados em um DataFrame e mostra ao final\n",
    "\n",
    "order_items = spark.read\\\n",
    "    .format(\"csv\")\\\n",
    "    .option(\"header\", \"true\")\\\n",
    "    .option(\"inferSchema\", \"true\")\\\n",
    "    .load(\"/Volumes/workspace/default/arquivos-aula/Bike Store/order_items.csv\")\n",
    "\n",
    "display(order_items)"
   ]
  },
  {
   "cell_type": "markdown",
   "id": "5a46247a",
   "metadata": {},
   "source": [
    "### # Filtrando por faixa de preços"
   ]
  },
  {
   "cell_type": "code",
   "execution_count": null,
   "id": "4e68bb8e",
   "metadata": {},
   "outputs": [],
   "source": [
    "# Cria uma nova coluna chamada 'Opiniao' em que os produtos cujos preços sejam maiores ou igual a 300, as células serão preenchidas com 'O produto está caro' e as células cujos valores são menores que 300 serão preenchidas com 'O produto está barato'. E as 'NULL' serão preenchidas com 'Não avaliado'.\n",
    "\n",
    "\n",
    "dfPrecos = order_items.withColumn((\"Opiniao\"), when(order_items.list_price >= 300, \"O produto está caro\").when(order_items.list_price <= 300, \"O produto está barato\")).fillna(\"Não avaliado\") \n",
    "\n",
    "# .withColumn((\"NomeDaNovaColuna\"), when(nomeDoDataFrame.nomeDaColunaDeComparacao >= 300, \"ResultadoImpressoNaCélula\")\n",
    "\n",
    "dfPrecos = dfPrecos.withColumnRenamed(\"order_id\", \"Id\")\\\n",
    "                   .withColumnRenamed(\"item_id\", \"Item_Id\")\\\n",
    "                   .withColumnRenamed(\"quantity\", \"Quantidade\")\\\n",
    "                   .withColumnRenamed(\"product_id\", \"Produto_Id\")\\\n",
    "                   .withColumnRenamed(\"list_price\", \"Preco\")\\\n",
    "                   .withColumnRenamed(\"discount\", \"Desconto\")\n",
    "\n",
    "# Altera o nome das colunas para ficar visualmente mais bonito e padronizado em Pt-BR.\n",
    "\n",
    "display(dfPrecos)\n",
    "\n",
    "### # Criando uma nova coluna 'Estoque' e setando os indicadores 'Reposição URGENTE' em células com menos de 2 unidades, e 'Estoque Normal' em células com 2 ou mais unidades.\n",
    "\n",
    "dfEstoque = dfPrecos.withColumn((\"Estoque\"), when(dfPrecos.Quantidade < 2, \"Reposição URGENTE\").when(dfPrecos.Quantidade >= 2, \"Estoque Normal\"))\n",
    "\n",
    "\n",
    "display(dfEstoque)"
   ]
  },
  {
   "cell_type": "markdown",
   "id": "f959804c",
   "metadata": {},
   "source": [
    "### # Alterando o Produto_Id por um nome de produto 'fictício' somente para simular a criação de uma tabela e exportação da mesma em aquivo PDF ou outro formato externo.\n"
   ]
  },
  {
   "cell_type": "code",
   "execution_count": null,
   "id": "9d03750f",
   "metadata": {},
   "outputs": [],
   "source": [
    "# Primeiro, selecionar a coluna Produto_Id para verificar com o 'distinct().count()' quantos IDs diferentes possuem, para eu saber quantos produtos terei que \"criar\", ou seja, quantos nomes de itens terei que informar. Depois, verificar os IDs diferentes apenas com o '.distinct()' para dai sim alterá-los.\n",
    "\n",
    "display(dfEstoque.select(\"Produto_Id\").distinct())\n",
    "\n",
    "from pyspark.sql import SparkSession\n",
    "from pyspark.sql import Row\n",
    "\n",
    "nomes = [\"Inha\", \"Guin\", \"AirJet\", \"AirKey\", \"AirLight\", \"AirLine\", \"AirLink\", \"AirMax\", \"AirNow\", \"AirOne\", \"AirPod\", \"AirStar\", \"AirWave\", \"AirX\", \"BrightGo\", \"BrightJet\", \"BrightMax\", \"BrightStar\", \"BrightX\", \"CleanEdge\", \"CleanFast\", \"CleanLab\", \"CleanLight\", \"CleanLine\", \"CleanMix\", \"CleanOne\", \"CleanPlus\", \"CleanUp\", \"EasyData\", \"EasyFast\", \"EasyFit\", \"EasyGear\", \"EasyGo\", \"EasyJet\", \"EasyKey\", \"EasyLab\", \"EasyLight\", \"EasyLine\", \"EasyMax\", \"EasyMix\", \"EasyMode\", \"EasyNow\", \"EasyOne\", \"EasyPlay\", \"EasyPlus\", \"EasyPod\", \"EasySet\", \"EasyStar\", \"EasyTop\", \"EasyTrack\", \"EasyUp\", \"EasyView\", \"EasyWave\", \"EasyX\", \"EasyZone\", \"EcoBox\", \"EcoClean\", \"EcoData\", \"EcoEdge\", \"EcoFast\", \"EcoFit\", \"EcoGear\", \"EcoGo\", \"EcoJet\", \"EcoKey\", \"EcoLab\", \"EcoLight\", \"EcoLine\", \"EcoLink\", \"EcoMax\", \"EcoMix\", \"EcoMode\", \"EcoNow\", \"EcoOne\", \"EcoPlay\", \"EcoPlus\", \"EcoPod\", \"EcoSet\", \"EcoStar\", \"EcoTop\", \"EcoTrack\", \"EcoUp\", \"EcoView\", \"EcoWave\", \"EcoX\", \"EcoZone\", \"FlexBox\", \"FlexData\", \"FlexEdge\", \"FlexFast\", \"FlexFit\", \"FlexGear\", \"FlexGo\", \"FlexJet\", \"FlexKey\", \"FlexLab\", \"FlexLight\", \"FlexLine\", \"FlexLink\", \"FlexMax\", \"FlexMix\", \"FlexMode\", \"FlexNow\", \"FlexOne\", \"FlexPlay\", \"FlexPlus\", \"FlexPod\", \"FlexSet\", \"FlexStar\", \"FlexTop\", \"FlexTrack\", \"FlexUp\", \"FlexView\", \"FlexWave\", \"FlexX\", \"FlexZone\", \"FreshBox\", \"FreshData\", \"FreshEdge\", \"FreshFast\", \"FreshFit\", \"FreshGear\", \"FreshGo\", \"FreshJet\", \"FreshKey\", \"FreshLab\", \"FreshLight\", \"FreshLine\", \"FreshLink\", \"FreshMax\", \"FreshMix\", \"FreshMode\", \"FreshNow\", \"FreshOne\", \"FreshPlay\", \"FreshPlus\", \"FreshPod\", \"FreshSet\", \"FreshStar\", \"FreshTop\", \"FreshTrack\", \"FreshUp\", \"FreshView\", \"FreshWave\", \"FreshX\", \"FreshZone\", \"GigaBox\", \"GigaData\", \"GigaEdge\", \"GigaFast\", \"GigaFit\", \"GigaGear\", \"GigaGo\", \"GigaJet\", \"GigaKey\", \"GigaLab\", \"GigaLight\", \"GigaLine\", \"GigaLink\", \"GigaMax\", \"GigaMix\", \"GigaMode\", \"GigaNow\", \"GigaOne\", \"GigaPlay\", \"GigaPlus\", \"GigaPod\", \"GigaSet\", \"GigaStar\", \"GigaTop\", \"GigaTrack\", \"GigaUp\", \"GigaView\", \"GigaWave\", \"GigaX\", \"GigaZone\", \"HyperBox\", \"HyperData\", \"HyperEdge\", \"HyperFast\", \"HyperFit\", \"HyperGear\", \"HyperGo\", \"HyperJet\", \"HyperKey\", \"HyperLab\", \"HyperLight\", \"HyperLine\", \"HyperLink\", \"HyperMax\", \"HyperMix\", \"HyperMode\", \"HyperNow\", \"HyperOne\", \"HyperPlay\", \"HyperPlus\", \"HyperPod\", \"HyperSet\", \"HyperStar\", \"HyperTop\", \"HyperTrack\", \"HyperUp\", \"HyperView\", \"HyperWave\", \"HyperX\", \"HyperZone\", \"LiteBox\", \"LiteData\", \"LiteEdge\", \"LiteFast\", \"LiteFit\", \"LiteGear\", \"LiteGo\", \"LiteJet\", \"LiteKey\", \"LiteLab\", \"LiteLight\", \"LiteLine\", \"LiteLink\", \"LiteMax\", \"LiteMix\", \"LiteMode\", \"LiteNow\", \"LiteOne\", \"LitePlay\", \"LitePlus\", \"LitePod\", \"LiteSet\", \"LiteStar\", \"LiteTop\", \"LiteTrack\", \"LiteUp\", \"LiteView\", \"LiteWave\", \"LiteX\", \"LiteZone\", \"MagicBox\", \"MagicData\", \"MagicEdge\", \"MagicFast\", \"MagicFit\", \"MagicGear\", \"MagicGo\", \"MagicJet\", \"MagicKey\", \"MagicLab\", \"MagicLight\", \"MagicLine\", \"MagicLink\", \"MagicMax\", \"MagicMix\", \"MagicMode\", \"MagicNow\", \"MagicOne\", \"MagicPlay\", \"MagicPlus\", \"MagicPod\", \"MagicSet\", \"MagicStar\", \"MagicTop\", \"MagicTrack\", \"MagicUp\", \"MagicView\", \"MagicWave\", \"MagicX\", \"MagicZone\", \"MaxBox\", \"MaxData\", \"MaxEdge\", \"MaxFast\", \"MaxFit\", \"MaxGear\", \"MaxGo\", \"MaxJet\", \"MaxKey\", \"MaxLab\", \"MaxLight\", \"MaxLine\", \"MaxLink\", \"MaxMix\", \"MaxMode\", \"MaxNow\", \"MaxOne\", \"MaxPlay\", \"MaxPlus\", \"MaxPod\", \"MaxSet\", \"MaxStar\", \"MaxTop\", \"MaxTrack\", \"MaxUp\", \"MaxView\", \"MaxWave\", \"MaxX\", \"MaxZone\", \"MegaBox\", \"MegaData\", \"MegaEdge\", \"MegaFast\", \"MegaFit\", \"MegaGear\", \"MegaGo\", \"MegaJet\", \"MegaKey\", \"MegaLab\", \"MegaLight\", \"MegaLine\", \"MegaLink\", \"MegaMax\", \"MegaMix\", \"MegaMode\", \"MegaNow\", \"MegaOne\", \"MegaPlay\", \"MegaPlus\", \"MegaPod\", \"MegaSet\", \"MegaStar\", \"MegaTop\", \"MegaTrack\", \"MegaUp\", \"MegaView\", \"MegaWave\", \"MegaX\", \"MegaZone\", \"MiniBox\", \"MiniData\", \"MiniEdge\", \"MiniFast\", \"MiniFit\", \"MiniGear\", \"MiniGo\", \"MiniJet\", \"MiniKey\", \"MiniLab\", \"MiniLight\", \"MiniLine\", \"MiniLink\", \"MiniMax\", \"MiniMix\", \"MiniMode\", \"MiniNow\", \"MiniOne\", \"MiniPlay\", \"MiniPlus\", \"MiniPod\", \"MiniSet\", \"MiniStar\", \"MiniTop\", \"MiniTrack\", \"MiniUp\", \"MiniView\", \"MiniWave\", \"MiniX\", \"MiniZone\", \"NeoBox\", \"NeoData\", \"NeoEdge\", \"NeoFast\", \"NeoFit\", \"NeoGear\", \"NeoGo\", \"NeoJet\", \"NeoKey\", \"NeoLab\", \"NeoLight\", \"NeoLine\", \"NeoLink\", \"NeoMax\", \"NeoMix\", \"NeoMode\", \"NeoNow\", \"NeoOne\", \"NeoPlay\", \"NeoPlus\", \"NeoPod\", \"NeoSet\", \"NeoStar\", \"NeoTop\", \"NeoTrack\", \"NeoUp\", \"NeoView\", \"NeoWave\", \"NeoX\", \"NeoZone\", \"NextBox\", \"NextData\", \"NextEdge\", \"NextFast\", \"NextFit\", \"NextGear\", \"NextGo\", \"NextJet\", \"NextKey\", \"NextLab\", \"NextLight\", \"NextLine\", \"NextLink\", \"NextMax\", \"NextMix\", \"NextMode\", \"NextNow\", \"NextOne\", \"NextPlay\", \"NextPlus\", \"NextPod\", \"NextSet\", \"NextStar\", \"NextTop\", \"NextTrack\", \"NextUp\", \"NextView\", \"NextWave\", \"NextX\", \"NextZone\", \"NovaBox\", \"NovaData\", \"NovaEdge\", \"NovaFast\", \"NovaFit\", \"NovaGear\", \"NovaGo\", \"NovaJet\", \"NovaKey\", \"NovaLab\", \"NovaLight\", \"NovaLine\", \"NovaLink\", \"NovaMax\", \"NovaMix\", \"NovaMode\", \"NovaNow\", \"NovaOne\", \"NovaPlay\", \"NovaPlus\", \"NovaPod\", \"NovaSet\", \"NovaStar\", \"NovaTop\", \"NovaTrack\", \"NovaUp\", \"NovaView\", \"NovaWave\", \"NovaX\", \"NovaZone\", \"OptiBox\", \"OptiData\", \"OptiEdge\", \"OptiFast\", \"OptiFit\", \"OptiGear\", \"OptiGo\", \"OptiJet\", \"OptiKey\", \"OptiLab\", \"OptiLight\", \"OptiLine\", \"OptiLink\", \"OptiMax\", \"OptiMix\", \"OptiMode\", \"OptiNow\", \"OptiOne\", \"OptiPlay\", \"OptiPlus\", \"OptiPod\", \"OptiSet\", \"OptiStar\", \"OptiTop\", \"OptiTrack\", \"OptiUp\", \"OptiView\", \"OptiWave\", \"OptiX\", \"OptiZone\", \"PowerBox\", \"PowerData\", \"PowerEdge\", \"PowerFast\", \"PowerFit\", \"PowerGear\", \"PowerGo\", \"PowerJet\", \"PowerKey\", \"PowerLab\", \"PowerLight\", \"PowerLine\", \"PowerLink\", \"PowerMax\", \"PowerMix\", \"PowerMode\", \"PowerNow\", \"PowerOne\", \"PowerPlay\", \"PowerPlus\", \"PowerPod\", \"PowerSet\", \"PowerStar\", \"PowerTop\", \"PowerTrack\", \"PowerUp\", \"PowerView\", \"PowerWave\", \"PowerX\", \"PowerZone\", \"PrimeBox\", \"PrimeData\", \"PrimeEdge\", \"PrimeFast\", \"PrimeFit\", \"PrimeGear\", \"PrimeGo\", \"PrimeJet\", \"PrimeKey\", \"PrimeLab\", \"PrimeLight\", \"PrimeLine\", \"PrimeLink\", \"PrimeMax\", \"PrimeMix\", \"PrimeMode\", \"PrimeNow\", \"PrimeOne\", \"PrimePlay\", \"PrimePlus\", \"PrimePod\", \"PrimeSet\", \"PrimeStar\", \"PrimeTop\", \"PrimeTrack\", \"PrimeUp\", \"PrimeView\", \"PrimeWave\", \"PrimeX\", \"PrimeZone\", \"QuickBox\", \"QuickData\", \"QuickEdge\", \"QuickFast\", \"QuickFit\", \"QuickGear\", \"QuickGo\", \"QuickJet\", \"QuickKey\", \"QuickLab\", \"QuickLight\", \"QuickLine\", \"QuickLink\", \"QuickMax\", \"QuickMix\", \"QuickMode\", \"QuickNow\", \"QuickOne\", \"QuickPlay\", \"QuickPlus\", \"QuickPod\", \"QuickSet\", \"QuickStar\", \"QuickTop\", \"QuickTrack\", \"QuickUp\", \"QuickView\", \"QuickWave\", \"QuickX\", \"QuickZone\", \"SmartBox\", \"SmartData\", \"SmartEdge\", \"SmartFast\", \"SmartFit\", \"SmartGear\", \"SmartGo\", \"SmartJet\", \"SmartKey\", \"SmartLab\", \"SmartLight\", \"SmartLine\", \"SmartLink\", \"SmartMax\", \"SmartMix\", \"SmartMode\", \"SmartNow\", \"SmartOne\", \"SmartPlay\", \"SmartPlus\", \"SmartPod\", \"SmartSet\", \"SmartStar\", \"SmartTop\", \"SmartTrack\", \"SmartUp\", \"SmartView\", \"SmartWave\", \"SmartX\", \"SmartZone\", \"SpeedBox\", \"SpeedData\", \"SpeedEdge\", \"SpeedFast\", \"SpeedFit\", \"SpeedGear\", \"SpeedGo\", \"SpeedJet\", \"SpeedKey\", \"SpeedLab\", \"SpeedLight\", \"SpeedLine\", \"SpeedLink\", \"SpeedMax\", \"SpeedMix\", \"SpeedMode\", \"SpeedNow\", \"SpeedOne\", \"SpeedPlay\", \"SpeedPlus\", \"SpeedPod\", \"SpeedSet\", \"SpeedStar\", \"SpeedTop\", \"SpeedTrack\", \"SpeedUp\", \"SpeedView\", \"SpeedWave\", \"SpeedX\", \"SpeedZone\", \"SuperBox\", \"SuperData\", \"SuperEdge\", \"SuperFast\", \"SuperFit\", \"SuperGear\", \"SuperGo\", \"SuperJet\", \"SuperKey\", \"SuperLab\", \"SuperLight\", \"SuperLine\", \"SuperLink\", \"SuperMax\", \"SuperMix\", \"SuperMode\", \"SuperNow\", \"SuperOne\", \"SuperPlay\", \"SuperPlus\", \"SuperPod\", \"SuperSet\", \"SuperStar\", \"SuperTop\", \"SuperTrack\", \"SuperUp\", \"SuperView\", \"SuperWave\", \"SuperX\", \"SuperZone\", \"TurboBox\", \"TurboData\", \"TurboEdge\", \"TurboFast\", \"TurboFit\", \"TurboGear\", \"TurboGo\", \"TurboJet\", \"TurboKey\", \"TurboLab\", \"TurboLight\", \"TurboLine\", \"TurboLink\", \"TurboMax\", \"TurboMix\", \"TurboMode\", \"TurboNow\", \"TurboOne\", \"TurboPlay\", \"TurboPlus\", \"TurboPod\", \"TurboSet\", \"TurboStar\", \"TurboTop\", \"TurboTrack\", \"TurboUp\", \"TurboView\", \"TurboWave\", \"TurboX\", \"TurboZone\", \"UltraBox\", \"UltraData\", \"UltraEdge\", \"UltraFast\", \"UltraFit\", \"UltraGear\", \"UltraGo\", \"UltraJet\", \"UltraKey\", \"UltraLab\", \"UltraLight\", \"UltraLine\", \"UltraLink\", \"UltraMax\", \"UltraMix\", \"UltraMode\", \"UltraNow\", \"UltraOne\", \"UltraPlay\", \"UltraPlus\", \"UltraPod\", \"UltraSet\", \"UltraStar\", \"UltraTop\", \"UltraTrack\", \"UltraUp\", \"UltraView\", \"UltraWave\", \"UltraX\", \"UltraZone\", \"ZoomBox\", \"ZoomData\", \"ZoomEdge\", \"ZoomFast\", \"ZoomFit\", \"ZoomGear\", \"ZoomGo\", \"ZoomJet\", \"ZoomKey\", \"ZoomLab\", \"ZoomLight\", \"ZoomLine\", \"ZoomLink\", \"ZoomMax\", \"ZoomMix\", \"ZoomMode\", \"ZoomNow\", \"ZoomOne\", \"ZoomPlay\", \"ZoomPlus\", \"ZoomPod\", \"ZoomSet\", \"ZoomStar\", \"ZoomTop\", \"ZoomTrack\", \"ZoomUp\", \"ZoomView\", \"ZoomWave\", \"ZoomX\", \"ZoomZone\"]\n",
    "\n",
    "display(nomes)\n",
    "\n",
    "# Criar DataFrame de referência (ID, Nome)\n",
    "df_produtos = spark.createDataFrame(\n",
    "    [(i+1, nomes[i]) for i in range(len(nomes))],\n",
    "    [\"Produto_Id\", \"Nome_Produto\"]\n",
    ")\n",
    "\n",
    "# Agora faz o join com o seu DF original\n",
    "df_completo = dfEstoque.join(df_produtos, on=\"Produto_Id\", how=\"left\") # Cria um DF novo com os nomes de produtos\n",
    "\n",
    "\n",
    "dfTabFinal = df_completo.select(\"Nome_Produto\", \"Estoque\", \"Preco\", \"Opiniao\")\n",
    "\n",
    "display(dfTabFinal)"
   ]
  }
 ],
 "metadata": {
  "language_info": {
   "name": "python"
  }
 },
 "nbformat": 4,
 "nbformat_minor": 5
}
